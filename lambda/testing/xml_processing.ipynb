{
 "cells": [
  {
   "cell_type": "code",
   "execution_count": 5,
   "metadata": {},
   "outputs": [],
   "source": [
    "import sys, os\n",
    "sys.path.append('..')\n",
    "\n",
    "import datetime as dt\n",
    "from capture_dou.inlabs_driver import InLabsDriver\n",
    "\n",
    "#tipo_dou=\"DO1 DO2 DO3 DO1E DO2E DO3E\" # Seções separadas por espaço\n",
    "tipo_dou = \"DO2\""
   ]
  },
  {
   "cell_type": "code",
   "execution_count": 3,
   "metadata": {},
   "outputs": [],
   "source": [
    "def brasilia_day():\n",
    "    \"\"\"\n",
    "    No matter where the code is ran, return UTC-3 day\n",
    "    (Brasilia local day, no daylight savings)\n",
    "    \"\"\"\n",
    "    return (dt.datetime.utcnow() + dt.timedelta(hours=-3)).replace(hour=0, minute=0, second=0, microsecond=0)"
   ]
  },
  {
   "cell_type": "code",
   "execution_count": 8,
   "metadata": {},
   "outputs": [],
   "source": [
    "import requests\n",
    "import io\n",
    "import zipfile\n",
    "\n",
    "def parse_zipped_response(response):\n",
    "    \"\"\"\n",
    "    Download a ZIP file and extract its contents in memory\n",
    "    yields (filename, file-like object) pairs\n",
    "    \"\"\"\n",
    "    with zipfile.ZipFile(io.BytesIO(response.content)) as thezip:\n",
    "        for zipinfo in thezip.infolist():\n",
    "            with thezip.open(zipinfo) as thefile:\n",
    "                yield zipinfo.filename, thefile"
   ]
  },
  {
   "cell_type": "code",
   "execution_count": 37,
   "metadata": {},
   "outputs": [
    {
     "name": "stdout",
     "output_type": "stream",
     "text": [
      "529_20230112_20228383.xml\n",
      "b'\\xef\\xbb\\xbf<xml><article id=\"30058734\" name=\"Po 01 Aposentadoria FRANCISCO MA\" idOficio=\"9331015\" pubName=\"DO2\" artType=\"Portaria\" pubDate=\"12/01/2023\" artClass=\"00011:00008:00000:00000:00000:00000:00000:00000:00000:00000:00017:00000\" artCategory=\"Minist\\xc3\\xa9rio da Ci\\xc3\\xaancia, Tecnologia e Inova\\xc3\\xa7\\xc3\\xb5es/Centro de Tecnologia Mineral\" artSize=\"12\" artNotes=\"\" numberPage=\"4\" pdfPage=\"http://pesquisa.in.gov.br/imprensa/jsp/visualiza/index.jsp?data=12/01/2023&amp;jornal=529&amp;pagina=4\" editionNumber=\"9\" highlightType=\"\" highlightPriority=\"\" highlight=\"\" highlightimage=\"\" highlightimagename=\"\" idMateria=\"20228383\">\\r\\n  <body>\\r\\n    <Identifica><![CDATA[PORTARIA CETEM N\\xc2\\xba 1, DE 3 DE JANEIRO DE  2023]]></Identifica>\\r\\n    <Data><![CDATA[]]></Data>\\r\\n    <Ementa />\\r\\n    <Titulo />\\r\\n    <SubTitulo />\\r\\n    <Texto><![CDATA[<p class=\"identifica\">PORTARIA CETEM N\\xc2\\xba 1, DE 3 DE JANEIRO DE 2023</p><p>A Diretora do Centro de Tecnologia Mineral - CETEM, no uso de suas atribui\\xc3\\xa7\\xc3\\xb5es que lhe foram delegadas pela Portaria n.\\xc2\\xba 407, de 29 de junho de 2006, publicada no Di\\xc3\\xa1rio Oficial da Uni\\xc3\\xa3o de 30 de junho de 2006 resolve:</p><p>Art. 1\\xc2\\xba Conceder aposentadoria volunt\\xc3\\xa1ria, com proventos integrais, a FRANCISCO MARIANO DA ROCHA DE SOUZA LIMA , Analista em C&amp;T , Classe H, Padr\\xc3\\xa3o III, matr\\xc3\\xadcula Siape n\\xc2\\xba xxx1079, com fundamento legal nos termos do artigo 3\\xc2\\xba, incisos I e II e \\xc2\\xa7 \\xc3\\xbanico da Emenda Constitucional n\\xc2\\xba 47/2005, cc com o \\xc2\\xa7 1\\xc2\\xba do Art. 3\\xc2\\xba, e o \\xc2\\xa7 4\\xc2\\xba do Artigo 11 da Emenda Constitucional n\\xc2\\xba 103, de 13 de novembro de 2019 (reda\\xc3\\xa7\\xc3\\xa3o atual). Processo SEI N\\xc2\\xba 01207.000317/2022-14.</p><p class=\"assina\">PAULO FERNANDO ALMEIDA BRAGA</p><p class=\"cargo\">Substituto</p>]]></Texto>\\r\\n  </body>\\r\\n  <Midias />\\r\\n</article></xml>'\n"
     ]
    }
   ],
   "source": [
    "with zipfile.ZipFile(io.BytesIO(file_response.content)) as thezip:\n",
    "    for zipinfo in thezip.infolist()[:1]:\n",
    "        print(zipinfo.filename)\n",
    "        with thezip.open(zipinfo) as thefile:\n",
    "            print(thefile.read(5000))"
   ]
  },
  {
   "cell_type": "code",
   "execution_count": 14,
   "metadata": {},
   "outputs": [
    {
     "name": "stderr",
     "output_type": "stream",
     "text": [
      "/home/joao/anaconda3/envs/scraping/lib/python3.9/site-packages/urllib3/connectionpool.py:1045: InsecureRequestWarning: Unverified HTTPS request is being made to host 'inlabs.in.gov.br'. Adding certificate verification is strongly advised. See: https://urllib3.readthedocs.io/en/1.26.x/advanced-usage.html#ssl-warnings\n",
      "  warnings.warn(\n",
      "/home/joao/anaconda3/envs/scraping/lib/python3.9/site-packages/urllib3/connectionpool.py:1045: InsecureRequestWarning: Unverified HTTPS request is being made to host 'inlabs.in.gov.br'. Adding certificate verification is strongly advised. See: https://urllib3.readthedocs.io/en/1.26.x/advanced-usage.html#ssl-warnings\n",
      "  warnings.warn(\n",
      "/home/joao/anaconda3/envs/scraping/lib/python3.9/site-packages/urllib3/connectionpool.py:1045: InsecureRequestWarning: Unverified HTTPS request is being made to host 'inlabs.in.gov.br'. Adding certificate verification is strongly advised. See: https://urllib3.readthedocs.io/en/1.26.x/advanced-usage.html#ssl-warnings\n",
      "  warnings.warn(\n",
      "/home/joao/anaconda3/envs/scraping/lib/python3.9/site-packages/urllib3/connectionpool.py:1045: InsecureRequestWarning: Unverified HTTPS request is being made to host 'inlabs.in.gov.br'. Adding certificate verification is strongly advised. See: https://urllib3.readthedocs.io/en/1.26.x/advanced-usage.html#ssl-warnings\n",
      "  warnings.warn(\n"
     ]
    }
   ],
   "source": [
    "\n",
    "# Inicialização do driver:\n",
    "driver = InLabsDriver()\n",
    "driver.login()\n",
    "\n",
    "# Montagem da URL:\n",
    "do_date_format = '%Y-%m-%d'\n",
    "# Transforms date to DOU format:\n",
    "date_string    = brasilia_day().strftime(do_date_format)\n",
    "\n",
    "for dou_secao in tipo_dou.split(' '):\n",
    "    file_url = driver.url_download + date_string + \"&dl=\" + date_string + \"-\" + dou_secao + \".zip\"\n",
    "    file_header = {'Cookie': 'inlabs_session_cookie=' + driver.cookie, 'origem': '736372697074'}\n",
    "    file_response = driver.session.request(\"GET\", file_url, headers = file_header)\n",
    "    if file_response.status_code == 200:\n",
    "        data = parse_zipped_response(file_response)"
   ]
  },
  {
   "cell_type": "code",
   "execution_count": 15,
   "metadata": {},
   "outputs": [],
   "source": [
    "lista = list(data)"
   ]
  },
  {
   "cell_type": "code",
   "execution_count": 36,
   "metadata": {},
   "outputs": [
    {
     "ename": "ValueError",
     "evalue": "read from closed file.",
     "output_type": "error",
     "traceback": [
      "\u001b[0;31m---------------------------------------------------------------------------\u001b[0m",
      "\u001b[0;31mValueError\u001b[0m                                Traceback (most recent call last)",
      "\u001b[1;32m/home/joao/documents/Gabinete/Repositórios/capturaAWS/lambda/testing/xml_processing.ipynb Cell 7\u001b[0m in \u001b[0;36m<cell line: 1>\u001b[0;34m()\u001b[0m\n\u001b[0;32m----> <a href='vscode-notebook-cell:/home/joao/documents/Gabinete/Reposit%C3%B3rios/capturaAWS/lambda/testing/xml_processing.ipynb#W6sZmlsZQ%3D%3D?line=0'>1</a>\u001b[0m lista[\u001b[39m0\u001b[39;49m][\u001b[39m1\u001b[39;49m]\u001b[39m.\u001b[39;49mread(\u001b[39m100\u001b[39;49m)\n",
      "File \u001b[0;32m~/anaconda3/envs/scraping/lib/python3.9/zipfile.py:904\u001b[0m, in \u001b[0;36mZipExtFile.read\u001b[0;34m(self, n)\u001b[0m\n\u001b[1;32m    900\u001b[0m \u001b[39m\"\"\"Read and return up to n bytes.\u001b[39;00m\n\u001b[1;32m    901\u001b[0m \u001b[39mIf the argument is omitted, None, or negative, data is read and returned until EOF is reached.\u001b[39;00m\n\u001b[1;32m    902\u001b[0m \u001b[39m\"\"\"\u001b[39;00m\n\u001b[1;32m    903\u001b[0m \u001b[39mif\u001b[39;00m \u001b[39mself\u001b[39m\u001b[39m.\u001b[39mclosed:\n\u001b[0;32m--> 904\u001b[0m     \u001b[39mraise\u001b[39;00m \u001b[39mValueError\u001b[39;00m(\u001b[39m\"\u001b[39m\u001b[39mread from closed file.\u001b[39m\u001b[39m\"\u001b[39m)\n\u001b[1;32m    905\u001b[0m \u001b[39mif\u001b[39;00m n \u001b[39mis\u001b[39;00m \u001b[39mNone\u001b[39;00m \u001b[39mor\u001b[39;00m n \u001b[39m<\u001b[39m \u001b[39m0\u001b[39m:\n\u001b[1;32m    906\u001b[0m     buf \u001b[39m=\u001b[39m \u001b[39mself\u001b[39m\u001b[39m.\u001b[39m_readbuffer[\u001b[39mself\u001b[39m\u001b[39m.\u001b[39m_offset:]\n",
      "\u001b[0;31mValueError\u001b[0m: read from closed file."
     ]
    }
   ],
   "source": [
    "lista[0][1].read(100)"
   ]
  },
  {
   "cell_type": "code",
   "execution_count": 30,
   "metadata": {},
   "outputs": [
    {
     "ename": "FileNotFoundError",
     "evalue": "[Errno 2] No such file or directory: '529_20230112_20228383.xml'",
     "output_type": "error",
     "traceback": [
      "\u001b[0;31m---------------------------------------------------------------------------\u001b[0m",
      "\u001b[0;31mFileNotFoundError\u001b[0m                         Traceback (most recent call last)",
      "\u001b[1;32m/home/joao/documents/Gabinete/Repositórios/capturaAWS/lambda/testing/xml_processing.ipynb Cell 7\u001b[0m in \u001b[0;36m<cell line: 1>\u001b[0;34m()\u001b[0m\n\u001b[0;32m----> <a href='vscode-notebook-cell:/home/joao/documents/Gabinete/Reposit%C3%B3rios/capturaAWS/lambda/testing/xml_processing.ipynb#W5sZmlsZQ%3D%3D?line=0'>1</a>\u001b[0m \u001b[39mwith\u001b[39;00m zipfile\u001b[39m.\u001b[39;49mZipFile(lista[\u001b[39m0\u001b[39;49m][\u001b[39m0\u001b[39;49m], \u001b[39m'\u001b[39;49m\u001b[39mr\u001b[39;49m\u001b[39m'\u001b[39;49m) \u001b[39mas\u001b[39;00m \u001b[39mzip\u001b[39m:\n\u001b[1;32m      <a href='vscode-notebook-cell:/home/joao/documents/Gabinete/Reposit%C3%B3rios/capturaAWS/lambda/testing/xml_processing.ipynb#W5sZmlsZQ%3D%3D?line=1'>2</a>\u001b[0m     \u001b[39mzip\u001b[39m\u001b[39m.\u001b[39mopen()\n",
      "File \u001b[0;32m~/anaconda3/envs/scraping/lib/python3.9/zipfile.py:1248\u001b[0m, in \u001b[0;36mZipFile.__init__\u001b[0;34m(self, file, mode, compression, allowZip64, compresslevel, strict_timestamps)\u001b[0m\n\u001b[1;32m   1246\u001b[0m \u001b[39mwhile\u001b[39;00m \u001b[39mTrue\u001b[39;00m:\n\u001b[1;32m   1247\u001b[0m     \u001b[39mtry\u001b[39;00m:\n\u001b[0;32m-> 1248\u001b[0m         \u001b[39mself\u001b[39m\u001b[39m.\u001b[39mfp \u001b[39m=\u001b[39m io\u001b[39m.\u001b[39;49mopen(file, filemode)\n\u001b[1;32m   1249\u001b[0m     \u001b[39mexcept\u001b[39;00m \u001b[39mOSError\u001b[39;00m:\n\u001b[1;32m   1250\u001b[0m         \u001b[39mif\u001b[39;00m filemode \u001b[39min\u001b[39;00m modeDict:\n",
      "\u001b[0;31mFileNotFoundError\u001b[0m: [Errno 2] No such file or directory: '529_20230112_20228383.xml'"
     ]
    }
   ],
   "source": [
    "with zipfile.ZipFile(lista[0][0], 'r') as zip:\n",
    "    zip.open()"
   ]
  }
 ],
 "metadata": {
  "kernelspec": {
   "display_name": "Python 3.9.13 ('scraping')",
   "language": "python",
   "name": "python3"
  },
  "language_info": {
   "codemirror_mode": {
    "name": "ipython",
    "version": 3
   },
   "file_extension": ".py",
   "mimetype": "text/x-python",
   "name": "python",
   "nbconvert_exporter": "python",
   "pygments_lexer": "ipython3",
   "version": "3.9.13"
  },
  "orig_nbformat": 4,
  "vscode": {
   "interpreter": {
    "hash": "0b57a106df503026757037a3564c5b06bb9bd0ebd4985fd2fe126eeda7bdee66"
   }
  }
 },
 "nbformat": 4,
 "nbformat_minor": 2
}
