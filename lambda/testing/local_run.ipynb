{
 "cells": [
  {
   "cell_type": "code",
   "execution_count": 2,
   "metadata": {},
   "outputs": [],
   "source": [
    "import requests\n",
    "import sys, os\n",
    "sys.path.append('../capture_dou')"
   ]
  },
  {
   "cell_type": "code",
   "execution_count": 3,
   "metadata": {},
   "outputs": [],
   "source": [
    "import cloudscraper\n",
    "import parse_dou_article as pa"
   ]
  },
  {
   "cell_type": "code",
   "execution_count": 4,
   "metadata": {},
   "outputs": [],
   "source": [
    "\n",
    "# The lists inside relevant_articles will receive the articles selected by each filter set:\n",
    "url_file_list = ['https://www.in.gov.br/web/dou/-/portaria-n-256-de-13-de-dezembro-de-2022-457714216']\n",
    "relevant_articles = [[]]*len(url_file_list)\n",
    "     \n",
    "\n",
    "# Using cloudscraper as a workaround for the CloudFlare protection:\n",
    "scraper = cloudscraper.create_scraper(delay=10,   browser={'custom': 'ScraperBot/1.0',})\n",
    "response = scraper.get(url_file_list[0])\n",
    "\n",
    "\n",
    "raw_article = pa.parse_dou_article(response, url_file_list[0])\n"
   ]
  },
  {
   "attachments": {},
   "cell_type": "markdown",
   "metadata": {},
   "source": [
    "## Replicando parsing"
   ]
  },
  {
   "cell_type": "code",
   "execution_count": 8,
   "metadata": {},
   "outputs": [],
   "source": [
    "article = pa.select_article(response)\n",
    "data = pa.recurse_over_nodes(article, None, {})"
   ]
  },
  {
   "cell_type": "code",
   "execution_count": 9,
   "metadata": {},
   "outputs": [
    {
     "data": {
      "text/plain": [
       "{'row-fluid': '\\n | \\n | \\n\\n | \\n | \\n | \\n',\n",
       " 'row-fluid_cabecalho-dou-text-center': '\\n | \\n | \\n',\n",
       " 'row-fluid_cabecalho-dou-text-center_brasao-brasil': '\\n | \\n',\n",
       " 'row-fluid_cabecalho-dou-text-center_brasao-brasil_d-none': 'BrasÃ£o do Brasil',\n",
       " 'row-fluid_cabecalho-dou-text-center_cabecalho-titulo-dou': 'DiÃ¡rio Oficial da UniÃ£o',\n",
       " 'row-fluid_detalhes-dou': '\\n | \\n | \\n',\n",
       " 'row-fluid_detalhes-dou_text-center': '\\n | \\n | \\n | \\n | \\n | \\n | \\n | \\n | \\n | \\n | \\n | \\n | \\n | \\n',\n",
       " 'row-fluid_detalhes-dou_text-center_publicado-dou': 'Publicado em: ',\n",
       " 'row-fluid_detalhes-dou_text-center_publicado-dou-data': '13/01/2023',\n",
       " 'row-fluid_detalhes-dou_text-center_pipe': ' |  |  |  |  | ',\n",
       " 'row-fluid_detalhes-dou_text-center_edicao-dou': 'EdiÃ§Ã£o: ',\n",
       " 'row-fluid_detalhes-dou_text-center_edicao-dou-data': '10',\n",
       " 'row-fluid_detalhes-dou_text-center_secao-dou': 'SeÃ§Ã£o: 2 | PÃ¡gina: ',\n",
       " 'row-fluid_detalhes-dou_text-center_secao-dou-data': '46',\n",
       " 'row-fluid_detalhes-dou_text-center_orgao-dou': 'Ã\\x93rgÃ£o: ',\n",
       " 'row-fluid_detalhes-dou_text-center_orgao-dou-data': 'MinistÃ©rio PÃºblico da UniÃ£o/MinistÃ©rio PÃºblico do Trabalho/Procuradoria Regional do Trabalho da 12Âª RegiÃ£o',\n",
       " 'row-fluid_texto-dou': '\\n\\n\\n | \\n | \\n | \\n | \\n | \\n | \\n | \\n | \\n\\n',\n",
       " 'row-fluid_texto-dou_identifica': 'Portaria NÂº 256, de 13 de dezembro de 2022',\n",
       " 'row-fluid_texto-dou_dou-paragraph': 'PGEA 20.02.1200.0001047/2022-18 | O Procurador-Chefe da Procuradoria Regional do Trabalho da 12Âª RegiÃ£o, no uso de suas atribuiÃ§Ãµes institucionais e considerando a Portaria PGT nÂº 1728, de 02 de outubro de 2017, resolve: | Art. 1Âº Dispensar, a servidora FlÃ¡via Carolina Postalli Rodrigues Alloy, matrÃ\\xadcula 6007731-X, do encargo de substituta eventual da Chefe da Assessoria JurÃ\\xaddica do 14Âº OfÃ\\xadcio Geral da PRT 12Âª RegiÃ£o, cÃ³digo CC-02. | Art. 2Âº Designar a servidora Rosmari Rudolf Mezzomo, matrÃ\\xadcula 6002253-1 para o encargo de substituta eventual do Chefe da Assessoria JurÃ\\xaddica do 14Âº OfÃ\\xadcio Geral da PRT 12Âª RegiÃ£o, cÃ³digo CC-02. | None',\n",
       " 'row-fluid_texto-dou_assina': 'MARCELO GOSS NEVES',\n",
       " 'row-fluid_texto-dou_': '(function(){var js = \"window[\\'__CF$cv$params\\']={r:\\'78a796e45cea118c\\',m:\\'FM5XnuVJCyymL_NFPTtBcte5J3Bm06.BcDVFWTbpKo0-1673879849-0-AbdFlAng+iLt6tPoDQoQq7vPU0hkbHQ2PDdEj04KbY3pT87tv5wTEft6ibTfB9Tem8SuNqOOowm/+Rp1XKh/fsi3ftLEDrQ7SHDElpbdBpuerZMYJiX+z9nVJiDCkT+Je8aJnPRbmHIqnEVNIokgbCHKPb7gTZ+kP4g93tXeVuf6OtLZDyIxqZOz688m1J1vWA==\\',s:[0x1d15199de4,0x57e6df8167],u:\\'/cdn-cgi/challenge-platform/h/g\\'};var now=Date.now()/1000,offset=14400,ts=\\'\\'+(Math.floor(now)-Math.floor(now%offset)),_cpo=document.createElement(\\'script\\');_cpo.nonce=\\'\\',_cpo.src=\\'/cdn-cgi/challenge-platform/h/g/scripts/alpha/invisible.js?ts=\\'+ts,document.getElementsByTagName(\\'head\\')[0].appendChild(_cpo);\";var _0xh = document.createElement(\\'iframe\\');_0xh.height = 1;_0xh.width = 1;_0xh.style.position = \\'absolute\\';_0xh.style.top = 0;_0xh.style.left = 0;_0xh.style.border = \\'none\\';_0xh.style.visibility = \\'hidden\\';document.body.appendChild(_0xh);function handler() {var _0xi = _0xh.contentDocument || _0xh.contentWindow.document;if (_0xi) {var _0xj = _0xi.createElement(\\'script\\');_0xj.nonce = \\'\\';_0xj.innerHTML = js;_0xi.getElementsByTagName(\\'head\\')[0].appendChild(_0xj);}}if (document.readyState !== \\'loading\\') {handler();} else if (window.addEventListener) {document.addEventListener(\\'DOMContentLoaded\\', handler);} else {var prev = document.onreadystatechange || function () {};document.onreadystatechange = function (e) {prev(e);if (document.readyState !== \\'loading\\') {document.onreadystatechange = prev;handler();}};}})(); | None',\n",
       " 'row-fluid_informacao-conteudo-dou': '\\n | \\n',\n",
       " 'row-fluid_informacao-conteudo-dou_': 'Este conteÃºdo nÃ£o substitui o publicado na versÃ£o certificada.',\n",
       " 'row-fluid_rodape-dou-text-center': '\\n | \\n | \\n',\n",
       " 'row-fluid_rodape-dou-text-center_borda-rodape-dou': '\\n | \\n',\n",
       " 'row-fluid_rodape-dou-text-center_borda-rodape-dou_d-none': 'Borda do rodapÃ©',\n",
       " 'row-fluid_rodape-dou-text-center_fundo-logo-imprensa-text-center': '\\n | \\n',\n",
       " 'row-fluid_rodape-dou-text-center_fundo-logo-imprensa-text-center_logo-imprensa-transp': '\\n | \\n',\n",
       " 'row-fluid_rodape-dou-text-center_fundo-logo-imprensa-text-center_logo-imprensa-transp_d-none': 'Logo da Imprensa'}"
      ]
     },
     "execution_count": 9,
     "metadata": {},
     "output_type": "execute_result"
    }
   ],
   "source": [
    "data"
   ]
  },
  {
   "cell_type": "code",
   "execution_count": 14,
   "metadata": {},
   "outputs": [
    {
     "data": {
      "text/plain": [
       "[{'key': 'd-none',\n",
       "  'value': 'Brasão do Brasil | Borda do rodapé | Logo da Imprensa',\n",
       "  'url': 'https://www.in.gov.br/web/dou/-/portaria-n-256-de-13-de-dezembro-de-2022-457714216',\n",
       "  'capture_date': '2023-01-13 14:06:18',\n",
       "  'url_certificado': 'http://pesquisa.in.gov.br/imprensa/jsp/visualiza/index.jsp?data=13/01/2023&jornal=529&pagina=46'},\n",
       " {'key': 'cabecalho-titulo-dou',\n",
       "  'value': 'Diário Oficial da União',\n",
       "  'url': 'https://www.in.gov.br/web/dou/-/portaria-n-256-de-13-de-dezembro-de-2022-457714216',\n",
       "  'capture_date': '2023-01-13 14:06:18',\n",
       "  'url_certificado': 'http://pesquisa.in.gov.br/imprensa/jsp/visualiza/index.jsp?data=13/01/2023&jornal=529&pagina=46'},\n",
       " {'key': 'publicado-dou',\n",
       "  'value': 'Publicado em: ',\n",
       "  'url': 'https://www.in.gov.br/web/dou/-/portaria-n-256-de-13-de-dezembro-de-2022-457714216',\n",
       "  'capture_date': '2023-01-13 14:06:18',\n",
       "  'url_certificado': 'http://pesquisa.in.gov.br/imprensa/jsp/visualiza/index.jsp?data=13/01/2023&jornal=529&pagina=46'},\n",
       " {'key': 'publicado-dou-data',\n",
       "  'value': '13/01/2023',\n",
       "  'url': 'https://www.in.gov.br/web/dou/-/portaria-n-256-de-13-de-dezembro-de-2022-457714216',\n",
       "  'capture_date': '2023-01-13 14:06:18',\n",
       "  'url_certificado': 'http://pesquisa.in.gov.br/imprensa/jsp/visualiza/index.jsp?data=13/01/2023&jornal=529&pagina=46'},\n",
       " {'key': 'edicao-dou',\n",
       "  'value': 'Edição: ',\n",
       "  'url': 'https://www.in.gov.br/web/dou/-/portaria-n-256-de-13-de-dezembro-de-2022-457714216',\n",
       "  'capture_date': '2023-01-13 14:06:18',\n",
       "  'url_certificado': 'http://pesquisa.in.gov.br/imprensa/jsp/visualiza/index.jsp?data=13/01/2023&jornal=529&pagina=46'},\n",
       " {'key': 'edicao-dou-data',\n",
       "  'value': '10',\n",
       "  'url': 'https://www.in.gov.br/web/dou/-/portaria-n-256-de-13-de-dezembro-de-2022-457714216',\n",
       "  'capture_date': '2023-01-13 14:06:18',\n",
       "  'url_certificado': 'http://pesquisa.in.gov.br/imprensa/jsp/visualiza/index.jsp?data=13/01/2023&jornal=529&pagina=46'},\n",
       " {'key': 'secao-dou',\n",
       "  'value': 'Seção: 2 | Página: ',\n",
       "  'url': 'https://www.in.gov.br/web/dou/-/portaria-n-256-de-13-de-dezembro-de-2022-457714216',\n",
       "  'capture_date': '2023-01-13 14:06:18',\n",
       "  'url_certificado': 'http://pesquisa.in.gov.br/imprensa/jsp/visualiza/index.jsp?data=13/01/2023&jornal=529&pagina=46'},\n",
       " {'key': 'secao-dou-data',\n",
       "  'value': '46',\n",
       "  'url': 'https://www.in.gov.br/web/dou/-/portaria-n-256-de-13-de-dezembro-de-2022-457714216',\n",
       "  'capture_date': '2023-01-13 14:06:18',\n",
       "  'url_certificado': 'http://pesquisa.in.gov.br/imprensa/jsp/visualiza/index.jsp?data=13/01/2023&jornal=529&pagina=46'},\n",
       " {'key': 'orgao-dou',\n",
       "  'value': 'Órgão: ',\n",
       "  'url': 'https://www.in.gov.br/web/dou/-/portaria-n-256-de-13-de-dezembro-de-2022-457714216',\n",
       "  'capture_date': '2023-01-13 14:06:18',\n",
       "  'url_certificado': 'http://pesquisa.in.gov.br/imprensa/jsp/visualiza/index.jsp?data=13/01/2023&jornal=529&pagina=46'},\n",
       " {'key': 'orgao-dou-data',\n",
       "  'value': 'Ministério Público da União/Ministério Público do Trabalho/Procuradoria Regional do Trabalho da 12ª Região',\n",
       "  'url': 'https://www.in.gov.br/web/dou/-/portaria-n-256-de-13-de-dezembro-de-2022-457714216',\n",
       "  'capture_date': '2023-01-13 14:06:18',\n",
       "  'url_certificado': 'http://pesquisa.in.gov.br/imprensa/jsp/visualiza/index.jsp?data=13/01/2023&jornal=529&pagina=46'},\n",
       " {'key': 'identifica',\n",
       "  'value': 'Portaria Nº 256, de 13 de dezembro de 2022',\n",
       "  'url': 'https://www.in.gov.br/web/dou/-/portaria-n-256-de-13-de-dezembro-de-2022-457714216',\n",
       "  'capture_date': '2023-01-13 14:06:18',\n",
       "  'url_certificado': 'http://pesquisa.in.gov.br/imprensa/jsp/visualiza/index.jsp?data=13/01/2023&jornal=529&pagina=46'},\n",
       " {'key': 'dou-paragraph',\n",
       "  'value': 'PGEA 20.02.1200.0001047/2022-18 | O Procurador-Chefe da Procuradoria Regional do Trabalho da 12ª Região, no uso de suas atribuições institucionais e considerando a Portaria PGT nº 1728, de 02 de outubro de 2017, resolve: | Art. 1º Dispensar, a servidora Flávia Carolina Postalli Rodrigues Alloy, matrícula 6007731-X, do encargo de substituta eventual da Chefe da Assessoria Jurídica do 14º Ofício Geral da PRT 12ª Região, código CC-02. | Art. 2º Designar a servidora Rosmari Rudolf Mezzomo, matrícula 6002253-1 para o encargo de substituta eventual do Chefe da Assessoria Jurídica do 14º Ofício Geral da PRT 12ª Região, código CC-02. | None',\n",
       "  'url': 'https://www.in.gov.br/web/dou/-/portaria-n-256-de-13-de-dezembro-de-2022-457714216',\n",
       "  'capture_date': '2023-01-13 14:06:18',\n",
       "  'url_certificado': 'http://pesquisa.in.gov.br/imprensa/jsp/visualiza/index.jsp?data=13/01/2023&jornal=529&pagina=46'},\n",
       " {'key': 'assina',\n",
       "  'value': 'MARCELO GOSS NEVES',\n",
       "  'url': 'https://www.in.gov.br/web/dou/-/portaria-n-256-de-13-de-dezembro-de-2022-457714216',\n",
       "  'capture_date': '2023-01-13 14:06:18',\n",
       "  'url_certificado': 'http://pesquisa.in.gov.br/imprensa/jsp/visualiza/index.jsp?data=13/01/2023&jornal=529&pagina=46'},\n",
       " {'key': 'fulltext',\n",
       "  'value': 'Brasão do Brasil Diário Oficial da União Publicado em: 13/01/2023 | Edição: 10 | Seção: 2 | Página: 46 Órgão: Ministério Público da União/Ministério Público do Trabalho/Procuradoria Regional do Trabalho da 12ª Região Portaria Nº 256, de 13 de dezembro de 2022 PGEA 20.02.1200.0001047/2022-18 O Procurador-Chefe da Procuradoria Regional do Trabalho da 12ª Região, no uso de suas atribuições institucionais e considerando a Portaria PGT nº 1728, de 02 de outubro de 2017, resolve: Art. 1º Dispensar, a servidora Flávia Carolina Postalli Rodrigues Alloy, matrícula 6007731-X, do encargo de substituta eventual da Chefe da Assessoria Jurídica do 14º Ofício Geral da PRT 12ª Região, código CC-02. Art. 2º Designar a servidora Rosmari Rudolf Mezzomo, matrícula 6002253-1 para o encargo de substituta eventual do Chefe da Assessoria Jurídica do 14º Ofício Geral da PRT 12ª Região, código CC-02. MARCELO GOSS NEVES (function(){var js = \"window[\\'__CF$cv$params\\']={r:\\'788fb8c3fbfd1178\\',m:\\'SEEFv7Ktpj9i1SDoNNzk_N9Cv.mA.dnKugo1lWujDAg-1673629578-0-AcJlhN8OhpMSLhWqiCTdZynS/hvoxFXqdnwSQSPcjxBG6Ua8/bHiVXnSlMQhUQZRg9K0S0aaYyKFLAw64QbGkmzchLYBxKO6Xb0gwTWFEI3mqs2TCFhl6Hg1R9vbZB9dUGs6MZdlSNs/Ah2h3BISHCVfPutEHsG9w3/IMtwfkfTlu44t8xR1JGrcqj82yZ4j5Q==\\',s:[0x93bde155a1,0x3904b5df4c],u:\\'/cdn-cgi/challenge-platform/h/g\\'};var now=Date.now()/1000,offset=14400,ts=\\'\\'+(Math.floor(now)-Math.floor(now%offset)),_cpo=document.createElement(\\'script\\');_cpo.nonce=\\'\\',_cpo.src=\\'/cdn-cgi/challenge-platform/h/g/scripts/alpha/invisible.js?ts=\\'+ts,document.getElementsByTagName(\\'head\\')[0].appendChild(_cpo);\";var _0xh = document.createElement(\\'iframe\\');_0xh.height = 1;_0xh.width = 1;_0xh.style.position = \\'absolute\\';_0xh.style.top = 0;_0xh.style.left = 0;_0xh.style.border = \\'none\\';_0xh.style.visibility = \\'hidden\\';document.body.appendChild(_0xh);function handler() {var _0xi = _0xh.contentDocument || _0xh.contentWindow.document;if (_0xi) {var _0xj = _0xi.createElement(\\'script\\');_0xj.nonce = \\'\\';_0xj.innerHTML = js;_0xi.getElementsByTagName(\\'head\\')[0].appendChild(_0xj);}}if (document.readyState !== \\'loading\\') {handler();} else if (window.addEventListener) {document.addEventListener(\\'DOMContentLoaded\\', handler);} else {var prev = document.onreadystatechange || function () {};document.onreadystatechange = function (e) {prev(e);if (document.readyState !== \\'loading\\') {document.onreadystatechange = prev;handler();}};}})(); Este conteúdo não substitui o publicado na versão certificada. Borda do rodapé Logo da Imprensa',\n",
       "  'url': 'https://www.in.gov.br/web/dou/-/portaria-n-256-de-13-de-dezembro-de-2022-457714216',\n",
       "  'capture_date': '2023-01-13 14:06:18',\n",
       "  'url_certificado': 'http://pesquisa.in.gov.br/imprensa/jsp/visualiza/index.jsp?data=13/01/2023&jornal=529&pagina=46'}]"
      ]
     },
     "execution_count": 14,
     "metadata": {},
     "output_type": "execute_result"
    }
   ],
   "source": [
    "raw_article"
   ]
  },
  {
   "cell_type": "markdown",
   "metadata": {},
   "source": [
    "## Raw Code"
   ]
  },
  {
   "cell_type": "code",
   "execution_count": null,
   "metadata": {},
   "outputs": [],
   "source": [
    "\n",
    "            # Organize article by capturing selected fields:\n",
    "            if gs.debug:\n",
    "                print(\"Select relevant fields...\")        \n",
    "            article = sa.structure_article(raw_article)\n",
    "            \n",
    "            # Write raw article's file to database:\n",
    "            wrote_return = 2   # (Preset status of 'save article' operation)\n",
    "            if config['save_articles']:\n",
    "                if gs.debug:\n",
    "                    print(\"Saving article...\")\n",
    "                if gs.local:\n",
    "                    wa.write_local_article(config, raw_article, url_file['filename'])\n",
    "                    wrote_return = 200\n",
    "                else:\n",
    "                    write_return = wa.write_to_s3(config, raw_article, url_file['filename'])\n",
    "                    if write_return == 200:\n",
    "                        wrote_return = wa.copy_s3_to_storage_gcp(config['bucket'], config['key'] + url_file['filename'])\n",
    "                        if wrote_return != 200 and ds.debug:\n",
    "                            print('Copy_s3_to_storage_gcp failed.') \n",
    "                    elif ds.debug:\n",
    "                        print('Write_to_s3 failed.')\n",
    "                        \n",
    "            # Loop over filters:\n",
    "            if gs.debug:\n",
    "                print(\"Filtering article...\")\n",
    "            for i in range(len(bot_infos)):\n",
    "                # Filter article:\n",
    "                relevant_articles[i] = relevant_articles[i] + fa.get_relevant_articles(bot_infos[i], [article])\n",
    "                # Slack crashes if message has more than 50 blocks.\n",
    "                # Avoid this by pre-posting long messages:\n",
    "                if config['post_articles'] and len(relevant_articles[i]) > 20:\n",
    "                    if gs.debug:\n",
    "                        print('Selected more than 20 articles.')\n",
    "                    ps.post_article(config, bot_infos[i], relevant_articles[i])\n",
    "                    relevant_articles[i] = []\n",
    "\n",
    "            # Record URL in list of captured articles (for now, we will assume that the article always was posted):\n",
    "            if captured_article_ok(config['save_articles'], wrote_return==200, config['post_articles'], True):\n",
    "                gu.register_captured_url(config['url_list'], url_file['url'])\n",
    "            elif gs.debug:\n",
    "                print('Failed to record as done: ' + url_file['url'])\n",
    "                \n",
    "        else:\n",
    "            # GET ran but returned BAD STATUS:\n",
    "            print('Bad status in GET ' + url_file['url'])  \n",
    "# End of Loop over URLs.\n",
    "\n",
    "if config['post_articles']:\n",
    "    # Send the selected articles to Slack:\n",
    "    for i in range(len(bot_infos)):\n",
    "        if len(relevant_articles[i]) > 0:\n",
    "            ps.post_article(config, bot_infos[i], relevant_articles[i])\n",
    "\n",
    "# Return the config for next capture try:\n",
    "return next_config\n"
   ]
  }
 ],
 "metadata": {
  "kernelspec": {
   "display_name": "Python 3.9.13 ('scraping')",
   "language": "python",
   "name": "python3"
  },
  "language_info": {
   "codemirror_mode": {
    "name": "ipython",
    "version": 3
   },
   "file_extension": ".py",
   "mimetype": "text/x-python",
   "name": "python",
   "nbconvert_exporter": "python",
   "pygments_lexer": "ipython3",
   "version": "3.9.13"
  },
  "orig_nbformat": 4,
  "vscode": {
   "interpreter": {
    "hash": "0b57a106df503026757037a3564c5b06bb9bd0ebd4985fd2fe126eeda7bdee66"
   }
  }
 },
 "nbformat": 4,
 "nbformat_minor": 2
}
