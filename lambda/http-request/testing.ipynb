{
 "cells": [
  {
   "cell_type": "code",
   "execution_count": 2,
   "metadata": {},
   "outputs": [],
   "source": [
    "from lambda_function import *"
   ]
  },
  {
   "cell_type": "code",
   "execution_count": 28,
   "metadata": {},
   "outputs": [],
   "source": [
    "params = {'dynamo_table_name': 'temp-capture-senado-proposicoes-lista-historical-2021-02-11-17-01-47', 'order': 0}"
   ]
  },
  {
   "cell_type": "code",
   "execution_count": 29,
   "metadata": {},
   "outputs": [
    {
     "name": "stdout",
     "output_type": "stream",
     "text": [
      "{'dynamo_table_name': 'temp-capture-senado-proposicoes-lista-historical-2021-02-11-17-01-47', 'order': 0}\n",
      "Loading params from dynamo temp table...\n"
     ]
    }
   ],
   "source": [
    "print(params)\n",
    "\n",
    "# Para poder identificar os erros que acontecerão no dynamo:\n",
    "dynamo_exceptions = boto3.client('dynamodb').exceptions\n",
    "\n",
    "try:\n",
    "    # Input `params` default (temp table):\n",
    "    if 'dynamo_table_name' in params.keys():           \n",
    "        if debug:\n",
    "            print('Loading params from dynamo temp table...')\n",
    "        # Carrega dicionário do dynamo:\n",
    "        event = load_params(params)\n",
    "    # For debugging:\n",
    "    else:\n",
    "        if debug:\n",
    "            print('Assuming `params` is a typical data in dynamo temp table item.')\n",
    "        # Se não existe referência à tabela no dynamo, assume que esse é o próprio dicionário\n",
    "        # (opção para debugging):\n",
    "        event = params\n",
    "        params = {'order': 0}\n",
    "\n",
    "# Possível erro: não encontrou a tabela temp no DynamoDB:\n",
    "except dynamo_exceptions.ResourceNotFoundException:\n",
    "\n",
    "    print('DynamoDB Table does not exist')    \n",
    "\n",
    "# Algum outro possível erro:\n",
    "except Exception as e:\n",
    "\n",
    "    # Raise error somewhere, maybe slack\n",
    "    print(e)\n"
   ]
  },
  {
   "cell_type": "code",
   "execution_count": 30,
   "metadata": {},
   "outputs": [
    {
     "name": "stdout",
     "output_type": "stream",
     "text": [
      "GET file...\n"
     ]
    }
   ],
   "source": [
    "# Set max_retries for HTTP GET to 3 (instead of one):\n",
    "# This makes the download more robust.\n",
    "session = requests.Session()\n",
    "session.mount('http', requests.adapters.HTTPAdapter(max_retries=3))\n",
    "\n",
    "# Pega o arquivo especificado pelo url no event:\n",
    "if 'url' in event.keys():\n",
    "    if debug:\n",
    "        print('GET file...')\n",
    "    try:\n",
    "        response = session.get(event['url'], \n",
    "                               params=event['params'], \n",
    "                               headers=event['headers'], # configs para HTTP GET.\n",
    "                               timeout=600)\n",
    "    except requests.exceptions.SSLError:\n",
    "        response = session.get(event['url'], \n",
    "                               params=event['params'], \n",
    "                               headers=event['headers'], # configs para HTTP GET.\n",
    "                               timeout=600,\n",
    "                               verify=False)\n"
   ]
  },
  {
   "cell_type": "code",
   "execution_count": 31,
   "metadata": {},
   "outputs": [
    {
     "name": "stdout",
     "output_type": "stream",
     "text": [
      "GET successful. Writing to S3...\n",
      "brutos-publicos legislativo/senado/v1/proposicoes-lista/senado-proposicoes-lista_2019.json\n",
      "Creating json list...\n",
      "Putting object in S3 bucket...\n",
      "s3_log: {'ResponseMetadata': {'RequestId': 'CGDY6X6N7KDG5H5R', 'HostId': 'gGwnwmociKMltZczGpU7G43KRkvNhPES6csooH6S9TFhAl4f+3D4OssGbCgvp2GkbhRlrZJ4U1g=', 'HTTPStatusCode': 200, 'HTTPHeaders': {'x-amz-id-2': 'gGwnwmociKMltZczGpU7G43KRkvNhPES6csooH6S9TFhAl4f+3D4OssGbCgvp2GkbhRlrZJ4U1g=', 'x-amz-request-id': 'CGDY6X6N7KDG5H5R', 'date': 'Thu, 11 Feb 2021 20:21:05 GMT', 'etag': '\"7285e02e87c1d998fe8b26a38272aa6c\"', 'content-length': '0', 'server': 'AmazonS3'}, 'RetryAttempts': 0}, 'ETag': '\"7285e02e87c1d998fe8b26a38272aa6c\"'}\n",
      "write_to_s3 status code: 200\n",
      "Invoking write-to-storage-gcp...\n"
     ]
    }
   ],
   "source": [
    "# Se captura ocorreu bem ou se ainda vai capturar (no caso sem url),\n",
    "# salva na AWS S3 e Google Storage:\n",
    "if response == None or (response != None and response.status_code == 200):\n",
    "    if debug:\n",
    "        if response != None:\n",
    "            print('GET successful. Writing to S3...')\n",
    "        else:\n",
    "            print('Will obtain non-http-get data...')\n",
    "    # Salva arquivo baixado no S3 (Amazon), além de outras coisas:\n",
    "    # (também registra o destino do arquivo)\n",
    "    status_code_s3 = write_to_s3(event, response)\n",
    "    if debug:\n",
    "        print('write_to_s3 status code:', status_code_s3)\n",
    "\n",
    "    # Copy the result to GCP storage:\n",
    "    status_code_gcp = 10\n",
    "    if status_code_s3 == 200:\n",
    "        status_code_gcp = copy_s3_to_storage_gcp(params['order'], event['bucket'], event['key'])\n",
    "\n",
    "    # Registra url capturado em tabela do dynamo, se tal ação for requisitada.\n",
    "    # Isso acontece no caso da captura de matérias do DOU. O motivo para \n",
    "    # guardarmos quais matérias foram baixadas é que as matérias podem ser \n",
    "    # publicadas em horários diferentes e o site do DOU pode sair do ar.\n",
    "    # Para não perder nenhuma matéria, vamos registrando quais do dia de hoje \n",
    "    # já baixamos:\n",
    "    if 'url_list' in event['aux_data'].keys():\n",
    "        if status_code_gcp == 200:\n",
    "            if debug:\n",
    "                print('Register sucessful capture on table' + event['aux_data']['url_list'])\n",
    "            register_captured_url_aws(event['aux_data']['url_list'], event['url'])\n",
    "        elif debug:\n",
    "            print('Capture failed for ' + event['url'])\n"
   ]
  },
  {
   "cell_type": "code",
   "execution_count": null,
   "metadata": {},
   "outputs": [],
   "source": []
  }
 ],
 "metadata": {
  "kernelspec": {
   "display_name": "Python 3",
   "language": "python",
   "name": "python3"
  },
  "language_info": {
   "codemirror_mode": {
    "name": "ipython",
    "version": 3
   },
   "file_extension": ".py",
   "mimetype": "text/x-python",
   "name": "python",
   "nbconvert_exporter": "python",
   "pygments_lexer": "ipython3",
   "version": "3.8.5"
  }
 },
 "nbformat": 4,
 "nbformat_minor": 4
}
